{
  "nbformat": 4,
  "nbformat_minor": 0,
  "metadata": {
    "colab": {
      "provenance": [],
      "include_colab_link": true
    },
    "kernelspec": {
      "name": "python3",
      "display_name": "Python 3"
    },
    "language_info": {
      "name": "python"
    }
  },
  "cells": [
    {
      "cell_type": "markdown",
      "metadata": {
        "id": "view-in-github",
        "colab_type": "text"
      },
      "source": [
        "<a href=\"https://colab.research.google.com/github/G016/YBI-Foundation_Projects/blob/main/Internship_Project_1.ipynb\" target=\"_parent\"><img src=\"https://colab.research.google.com/assets/colab-badge.svg\" alt=\"Open In Colab\"/></a>"
      ]
    },
    {
      "cell_type": "markdown",
      "source": [
        "# **Hand Written Digit Prediction - Classification Analysis**"
      ],
      "metadata": {
        "id": "dqZ-nhxiganh"
      }
    },
    {
      "cell_type": "markdown",
      "source": [
        "The digit dataset consist of 8x8 pixel images of digits. The images attribute of the dataset stores 8x8 arrays of grayscale value for each image. We will use these arrays to visualize the first 4 images. The target attribute of the dataset stores the digit each images represents."
      ],
      "metadata": {
        "id": "vIoy40rJtP4m"
      }
    },
    {
      "cell_type": "markdown",
      "source": [
        "-------------"
      ],
      "metadata": {
        "id": "gScHkw6jjrLo"
      }
    },
    {
      "cell_type": "markdown",
      "source": [
        "## **Objective**"
      ],
      "metadata": {
        "id": "Xns_rCdhh-vZ"
      }
    },
    {
      "cell_type": "markdown",
      "source": [
        "The objective of this project is to develop a robust machine learning model for the classification of hand-written digits. This model aims to accurately recognize and classify digits ranging from 0 to 9, enabling applications such as optical character recognition (OCR), automated form processing, and digit recognition in various domains. The primary goals are to achieve high classification accuracy, optimize model performance, and explore advanced techniques for digit recognition in real-world scenarios."
      ],
      "metadata": {
        "id": "9sPvnFM1iI9l"
      }
    },
    {
      "cell_type": "markdown",
      "source": [
        "## **Import Library**"
      ],
      "metadata": {
        "id": "r7GrZzX0iTlV"
      }
    },
    {
      "cell_type": "code",
      "source": [
        "import pandas as pd"
      ],
      "metadata": {
        "id": "UkK6NH9DiW-X"
      },
      "execution_count": null,
      "outputs": []
    },
    {
      "cell_type": "code",
      "source": [
        "import numpy as np"
      ],
      "metadata": {
        "id": "hKxRuP9Pu0uB"
      },
      "execution_count": null,
      "outputs": []
    },
    {
      "cell_type": "code",
      "source": [
        "import matplotlib.pyplot as plt"
      ],
      "metadata": {
        "id": "eME7jT_2u0rU"
      },
      "execution_count": null,
      "outputs": []
    },
    {
      "cell_type": "markdown",
      "source": [
        "## **Import Data**"
      ],
      "metadata": {
        "id": "9lHPQj1XiOUc"
      }
    },
    {
      "cell_type": "code",
      "source": [
        "from sklearn.datasets import load_digits"
      ],
      "metadata": {
        "id": "zcU1fdnGho6M"
      },
      "execution_count": null,
      "outputs": []
    },
    {
      "cell_type": "code",
      "source": [
        "df = load_digits()"
      ],
      "metadata": {
        "id": "R5uNpN5lv8Px"
      },
      "execution_count": null,
      "outputs": []
    },
    {
      "cell_type": "code",
      "source": [
        "_, axes = plt.subplots(nrows=1, ncols=4, figsize=(10,3))\n",
        "for ax, image, label in zip(axes, df.images, df.target):\n",
        "  ax.set_axis_off()\n",
        "  ax.imshow(image, cmap=plt.cm.gray_r, interpolation=\"nearest\")\n",
        "  ax.set_title(\"training: %i\" % label)"
      ],
      "metadata": {
        "colab": {
          "base_uri": "https://localhost:8080/",
          "height": 227
        },
        "id": "UR9ro5ttv8K4",
        "outputId": "4de1083c-14a2-4013-f98d-3819d33bad03"
      },
      "execution_count": null,
      "outputs": [
        {
          "output_type": "display_data",
          "data": {
            "text/plain": [
              "<Figure size 1000x300 with 4 Axes>"
            ],
            "image/png": "[encoded data removed]"
          },
          "metadata": {}
        }
      ]
    },
    {
      "cell_type": "markdown",
      "source": [
        "## **Data Preprocessing**"
      ],
      "metadata": {
        "id": "UqfyPOCYiiww"
      }
    },
    {
      "cell_type": "code",
      "source": [
        "df.images.shape"
      ],
      "metadata": {
        "id": "3cyr3fbGin0A",
        "colab": {
          "base_uri": "https://localhost:8080/"
        },
        "outputId": "9e09c053-8c64-4215-b254-0222a31822c7"
      },
      "execution_count": null,
      "outputs": [
        {
          "output_type": "execute_result",
          "data": {
            "text/plain": [
              "(1797, 8, 8)"
            ]
          },
          "metadata": {},
          "execution_count": 13
        }
      ]
    },
    {
      "cell_type": "code",
      "source": [
        "df.images[0]"
      ],
      "metadata": {
        "colab": {
          "base_uri": "https://localhost:8080/"
        },
        "id": "s259_DpYyuSv",
        "outputId": "7d8a4781-cf91-4b58-c5db-d9d8dd60643e"
      },
      "execution_count": null,
      "outputs": [
        {
          "output_type": "execute_result",
          "data": {
            "text/plain": [
              "array([[ 0.,  0.,  5., 13.,  9.,  1.,  0.,  0.],\n",
              "       [ 0.,  0., 13., 15., 10., 15.,  5.,  0.],\n",
              "       [ 0.,  3., 15.,  2.,  0., 11.,  8.,  0.],\n",
              "       [ 0.,  4., 12.,  0.,  0.,  8.,  8.,  0.],\n",
              "       [ 0.,  5.,  8.,  0.,  0.,  9.,  8.,  0.],\n",
              "       [ 0.,  4., 11.,  0.,  1., 12.,  7.,  0.],\n",
              "       [ 0.,  2., 14.,  5., 10., 12.,  0.,  0.],\n",
              "       [ 0.,  0.,  6., 13., 10.,  0.,  0.,  0.]])"
            ]
          },
          "metadata": {},
          "execution_count": 15
        }
      ]
    },
    {
      "cell_type": "code",
      "source": [
        "df.images[0].shape"
      ],
      "metadata": {
        "colab": {
          "base_uri": "https://localhost:8080/"
        },
        "id": "MfXyBIIayt88",
        "outputId": "469260b4-0968-4e5d-a9ed-fb735419b52f"
      },
      "execution_count": null,
      "outputs": [
        {
          "output_type": "execute_result",
          "data": {
            "text/plain": [
              "(8, 8)"
            ]
          },
          "metadata": {},
          "execution_count": 16
        }
      ]
    },
    {
      "cell_type": "code",
      "source": [
        "len(df.images)"
      ],
      "metadata": {
        "colab": {
          "base_uri": "https://localhost:8080/"
        },
        "id": "EcXFUikyy3R4",
        "outputId": "c9727f4a-58ed-41ec-9efe-ec15a071da89"
      },
      "execution_count": null,
      "outputs": [
        {
          "output_type": "execute_result",
          "data": {
            "text/plain": [
              "1797"
            ]
          },
          "metadata": {},
          "execution_count": 17
        }
      ]
    },
    {
      "cell_type": "code",
      "source": [
        "n_samples = len(df.images)\n",
        "data = df.images.reshape((n_samples, -1))"
      ],
      "metadata": {
        "id": "yDM6Wrc-0RV_"
      },
      "execution_count": null,
      "outputs": []
    },
    {
      "cell_type": "code",
      "source": [
        "data[0]"
      ],
      "metadata": {
        "colab": {
          "base_uri": "https://localhost:8080/"
        },
        "id": "O6hHj4n50RLi",
        "outputId": "64518305-38e2-4c61-fb34-9989592c4310"
      },
      "execution_count": null,
      "outputs": [
        {
          "output_type": "execute_result",
          "data": {
            "text/plain": [
              "array([ 0.,  0.,  5., 13.,  9.,  1.,  0.,  0.,  0.,  0., 13., 15., 10.,\n",
              "       15.,  5.,  0.,  0.,  3., 15.,  2.,  0., 11.,  8.,  0.,  0.,  4.,\n",
              "       12.,  0.,  0.,  8.,  8.,  0.,  0.,  5.,  8.,  0.,  0.,  9.,  8.,\n",
              "        0.,  0.,  4., 11.,  0.,  1., 12.,  7.,  0.,  0.,  2., 14.,  5.,\n",
              "       10., 12.,  0.,  0.,  0.,  0.,  6., 13., 10.,  0.,  0.,  0.])"
            ]
          },
          "metadata": {},
          "execution_count": 20
        }
      ]
    },
    {
      "cell_type": "code",
      "source": [
        "data[0].shape"
      ],
      "metadata": {
        "colab": {
          "base_uri": "https://localhost:8080/"
        },
        "id": "DzmzQFok0RFK",
        "outputId": "106b037d-336a-4c97-fa1b-1b7b1e9174aa"
      },
      "execution_count": null,
      "outputs": [
        {
          "output_type": "execute_result",
          "data": {
            "text/plain": [
              "(64,)"
            ]
          },
          "metadata": {},
          "execution_count": 21
        }
      ]
    },
    {
      "cell_type": "code",
      "source": [
        "data.shape"
      ],
      "metadata": {
        "colab": {
          "base_uri": "https://localhost:8080/"
        },
        "id": "1rZg1f8l0yFX",
        "outputId": "11d1f43c-b9a3-4935-9d64-1b411191b27e"
      },
      "execution_count": null,
      "outputs": [
        {
          "output_type": "execute_result",
          "data": {
            "text/plain": [
              "(1797, 64)"
            ]
          },
          "metadata": {},
          "execution_count": 22
        }
      ]
    },
    {
      "cell_type": "markdown",
      "source": [
        "## **Scaling Image Data**"
      ],
      "metadata": {
        "id": "2jXJpdAuiwYW"
      }
    },
    {
      "cell_type": "code",
      "source": [
        "data.min()"
      ],
      "metadata": {
        "id": "QBCakTuli57t",
        "colab": {
          "base_uri": "https://localhost:8080/"
        },
        "outputId": "0933facf-f986-4c35-c87a-d15725379dbc"
      },
      "execution_count": null,
      "outputs": [
        {
          "output_type": "execute_result",
          "data": {
            "text/plain": [
              "0.0"
            ]
          },
          "metadata": {},
          "execution_count": 23
        }
      ]
    },
    {
      "cell_type": "code",
      "source": [
        "data.max()"
      ],
      "metadata": {
        "colab": {
          "base_uri": "https://localhost:8080/"
        },
        "id": "1Uqs4asE1LxX",
        "outputId": "18d810a8-6e4f-4407-a4f0-c4759f69a3e3"
      },
      "execution_count": null,
      "outputs": [
        {
          "output_type": "execute_result",
          "data": {
            "text/plain": [
              "16.0"
            ]
          },
          "metadata": {},
          "execution_count": 24
        }
      ]
    },
    {
      "cell_type": "code",
      "source": [
        "data = data/16"
      ],
      "metadata": {
        "id": "MkjkPb371Lt3"
      },
      "execution_count": null,
      "outputs": []
    },
    {
      "cell_type": "code",
      "source": [
        "data.min()"
      ],
      "metadata": {
        "colab": {
          "base_uri": "https://localhost:8080/"
        },
        "id": "ru2Fu6x-1Lpy",
        "outputId": "86908cfb-ec26-4494-8581-6ba066781185"
      },
      "execution_count": null,
      "outputs": [
        {
          "output_type": "execute_result",
          "data": {
            "text/plain": [
              "0.0"
            ]
          },
          "metadata": {},
          "execution_count": 26
        }
      ]
    },
    {
      "cell_type": "code",
      "source": [
        "data.max()"
      ],
      "metadata": {
        "colab": {
          "base_uri": "https://localhost:8080/"
        },
        "id": "wb91ldvM1Xpw",
        "outputId": "90c7b45c-95f5-4035-c242-fd0b8da49634"
      },
      "execution_count": null,
      "outputs": [
        {
          "output_type": "execute_result",
          "data": {
            "text/plain": [
              "1.0"
            ]
          },
          "metadata": {},
          "execution_count": 27
        }
      ]
    },
    {
      "cell_type": "code",
      "source": [
        "data[0]"
      ],
      "metadata": {
        "colab": {
          "base_uri": "https://localhost:8080/"
        },
        "id": "4vTpzHfT1Xm_",
        "outputId": "4b60af2c-374f-493c-d778-637bb6cffa78"
      },
      "execution_count": null,
      "outputs": [
        {
          "output_type": "execute_result",
          "data": {
            "text/plain": [
              "array([0.    , 0.    , 0.3125, 0.8125, 0.5625, 0.0625, 0.    , 0.    ,\n",
              "       0.    , 0.    , 0.8125, 0.9375, 0.625 , 0.9375, 0.3125, 0.    ,\n",
              "       0.    , 0.1875, 0.9375, 0.125 , 0.    , 0.6875, 0.5   , 0.    ,\n",
              "       0.    , 0.25  , 0.75  , 0.    , 0.    , 0.5   , 0.5   , 0.    ,\n",
              "       0.    , 0.3125, 0.5   , 0.    , 0.    , 0.5625, 0.5   , 0.    ,\n",
              "       0.    , 0.25  , 0.6875, 0.    , 0.0625, 0.75  , 0.4375, 0.    ,\n",
              "       0.    , 0.125 , 0.875 , 0.3125, 0.625 , 0.75  , 0.    , 0.    ,\n",
              "       0.    , 0.    , 0.375 , 0.8125, 0.625 , 0.    , 0.    , 0.    ])"
            ]
          },
          "metadata": {},
          "execution_count": 28
        }
      ]
    },
    {
      "cell_type": "markdown",
      "source": [
        "## **Train Test Split**"
      ],
      "metadata": {
        "id": "90_0q_Pbi658"
      }
    },
    {
      "cell_type": "code",
      "source": [
        "from sklearn.model_selection import train_test_split"
      ],
      "metadata": {
        "id": "u60YYaOFi-Dw"
      },
      "execution_count": null,
      "outputs": []
    },
    {
      "cell_type": "code",
      "source": [
        "x_train, x_test, y_train, y_test = train_test_split(data, df.target, test_size=0.3)"
      ],
      "metadata": {
        "id": "hA6TC9CK1pXx"
      },
      "execution_count": null,
      "outputs": []
    },
    {
      "cell_type": "code",
      "source": [
        "x_train.shape, x_test.shape, y_train.shape, y_test.shape"
      ],
      "metadata": {
        "colab": {
          "base_uri": "https://localhost:8080/"
        },
        "id": "MoQm30sE1pVI",
        "outputId": "f9662a61-c7b4-475b-8bd5-7c8dcd20294c"
      },
      "execution_count": null,
      "outputs": [
        {
          "output_type": "execute_result",
          "data": {
            "text/plain": [
              "((1257, 64), (540, 64), (1257,), (540,))"
            ]
          },
          "metadata": {},
          "execution_count": 31
        }
      ]
    },
    {
      "cell_type": "markdown",
      "source": [
        "## **Modelling**"
      ],
      "metadata": {
        "id": "cIhyseNria7W"
      }
    },
    {
      "cell_type": "code",
      "source": [
        "from sklearn.ensemble import RandomForestClassifier"
      ],
      "metadata": {
        "id": "Toq58wpkjCw7"
      },
      "execution_count": null,
      "outputs": []
    },
    {
      "cell_type": "code",
      "source": [
        "rf = RandomForestClassifier()"
      ],
      "metadata": {
        "id": "RbkjUthD3D5r"
      },
      "execution_count": null,
      "outputs": []
    },
    {
      "cell_type": "code",
      "source": [
        "rf.fit(x_train, y_train)"
      ],
      "metadata": {
        "colab": {
          "base_uri": "https://localhost:8080/",
          "height": 75
        },
        "id": "EPTlGwWq3D2y",
        "outputId": "a8c22ac6-f07d-4afb-aba6-169e2fcdb56e"
      },
      "execution_count": null,
      "outputs": [
        {
          "output_type": "execute_result",
          "data": {
            "text/plain": [
              "RandomForestClassifier()"
            ],
            "text/html": [
              "<style>#sk-container-id-1 {color: black;background-color: white;}#sk-container-id-1 pre{padding: 0;}#sk-container-id-1 div.sk-toggleable {background-color: white;}#sk-container-id-1 label.sk-toggleable__label {cursor: pointer;display: block;width: 100%;margin-bottom: 0;padding: 0.3em;box-sizing: border-box;text-align: center;}#sk-container-id-1 label.sk-toggleable__label-arrow:before {content: \"▸\";float: left;margin-right: 0.25em;color: #696969;}#sk-container-id-1 label.sk-toggleable__label-arrow:hover:before {color: black;}#sk-container-id-1 div.sk-estimator:hover label.sk-toggleable__label-arrow:before {color: black;}#sk-container-id-1 div.sk-toggleable__content {max-height: 0;max-width: 0;overflow: hidden;text-align: left;background-color: #f0f8ff;}#sk-container-id-1 div.sk-toggleable__content pre {margin: 0.2em;color: black;border-radius: 0.25em;background-color: #f0f8ff;}#sk-container-id-1 input.sk-toggleable__control:checked~div.sk-toggleable__content {max-height: 200px;max-width: 100%;overflow: auto;}#sk-container-id-1 input.sk-toggleable__control:checked~label.sk-toggleable__label-arrow:before {content: \"▾\";}#sk-container-id-1 div.sk-estimator input.sk-toggleable__control:checked~label.sk-toggleable__label {background-color: #d4ebff;}#sk-container-id-1 div.sk-label input.sk-toggleable__control:checked~label.sk-toggleable__label {background-color: #d4ebff;}#sk-container-id-1 input.sk-hidden--visually {border: 0;clip: rect(1px 1px 1px 1px);clip: rect(1px, 1px, 1px, 1px);height: 1px;margin: -1px;overflow: hidden;padding: 0;position: absolute;width: 1px;}#sk-container-id-1 div.sk-estimator {font-family: monospace;background-color: #f0f8ff;border: 1px dotted black;border-radius: 0.25em;box-sizing: border-box;margin-bottom: 0.5em;}#sk-container-id-1 div.sk-estimator:hover {background-color: #d4ebff;}#sk-container-id-1 div.sk-parallel-item::after {content: \"\";width: 100%;border-bottom: 1px solid gray;flex-grow: 1;}#sk-container-id-1 div.sk-label:hover label.sk-toggleable__label {background-color: #d4ebff;}#sk-container-id-1 div.sk-serial::before {content: \"\";position: absolute;border-left: 1px solid gray;box-sizing: border-box;top: 0;bottom: 0;left: 50%;z-index: 0;}#sk-container-id-1 div.sk-serial {display: flex;flex-direction: column;align-items: center;background-color: white;padding-right: 0.2em;padding-left: 0.2em;position: relative;}#sk-container-id-1 div.sk-item {position: relative;z-index: 1;}#sk-container-id-1 div.sk-parallel {display: flex;align-items: stretch;justify-content: center;background-color: white;position: relative;}#sk-container-id-1 div.sk-item::before, #sk-container-id-1 div.sk-parallel-item::before {content: \"\";position: absolute;border-left: 1px solid gray;box-sizing: border-box;top: 0;bottom: 0;left: 50%;z-index: -1;}#sk-container-id-1 div.sk-parallel-item {display: flex;flex-direction: column;z-index: 1;position: relative;background-color: white;}#sk-container-id-1 div.sk-parallel-item:first-child::after {align-self: flex-end;width: 50%;}#sk-container-id-1 div.sk-parallel-item:last-child::after {align-self: flex-start;width: 50%;}#sk-container-id-1 div.sk-parallel-item:only-child::after {width: 0;}#sk-container-id-1 div.sk-dashed-wrapped {border: 1px dashed gray;margin: 0 0.4em 0.5em 0.4em;box-sizing: border-box;padding-bottom: 0.4em;background-color: white;}#sk-container-id-1 div.sk-label label {font-family: monospace;font-weight: bold;display: inline-block;line-height: 1.2em;}#sk-container-id-1 div.sk-label-container {text-align: center;}#sk-container-id-1 div.sk-container {/* jupyter's `normalize.less` sets `[hidden] { display: none; }` but bootstrap.min.css set `[hidden] { display: none !important; }` so we also need the `!important` here to be able to override the default hidden behavior on the sphinx rendered scikit-learn.org. See: https://github.com/scikit-learn/scikit-learn/issues/21755 */display: inline-block !important;position: relative;}#sk-container-id-1 div.sk-text-repr-fallback {display: none;}</style><div id=\"sk-container-id-1\" class=\"sk-top-container\"><div class=\"sk-text-repr-fallback\"><pre>RandomForestClassifier()</pre><b>In a Jupyter environment, please rerun this cell to show the HTML representation or trust the notebook. <br />On GitHub, the HTML representation is unable to render, please try loading this page with nbviewer.org.</b></div><div class=\"sk-container\" hidden><div class=\"sk-item\"><div class=\"sk-estimator sk-toggleable\"><input class=\"sk-toggleable__control sk-hidden--visually\" id=\"sk-estimator-id-1\" type=\"checkbox\" checked><label for=\"sk-estimator-id-1\" class=\"sk-toggleable__label sk-toggleable__label-arrow\">RandomForestClassifier</label><div class=\"sk-toggleable__content\"><pre>RandomForestClassifier()</pre></div></div></div></div></div>"
            ]
          },
          "metadata": {},
          "execution_count": 34
        }
      ]
    },
    {
      "cell_type": "markdown",
      "source": [
        "## **Prediction**"
      ],
      "metadata": {
        "id": "8AzwG7oLjiQI"
      }
    },
    {
      "cell_type": "code",
      "source": [
        "y_pred = rf.predict(x_test)"
      ],
      "metadata": {
        "id": "JLebGzDJjknA"
      },
      "execution_count": null,
      "outputs": []
    },
    {
      "cell_type": "code",
      "source": [
        "y_pred"
      ],
      "metadata": {
        "colab": {
          "base_uri": "https://localhost:8080/"
        },
        "id": "m8uB4Wsa3izQ",
        "outputId": "06fc78c5-9b23-4f95-e92b-0ee74776cd56"
      },
      "execution_count": null,
      "outputs": [
        {
          "output_type": "execute_result",
          "data": {
            "text/plain": [
              "array([3, 7, 5, 2, 8, 7, 0, 7, 4, 2, 9, 4, 0, 4, 2, 0, 0, 8, 2, 2, 8, 7,\n",
              "       8, 6, 7, 5, 2, 8, 4, 1, 9, 8, 6, 3, 6, 9, 6, 9, 3, 0, 9, 9, 1, 9,\n",
              "       3, 1, 8, 8, 5, 3, 9, 9, 3, 4, 2, 5, 3, 2, 0, 9, 1, 3, 7, 1, 4, 5,\n",
              "       1, 0, 5, 8, 0, 4, 7, 6, 9, 0, 3, 2, 3, 1, 5, 6, 1, 3, 0, 6, 3, 7,\n",
              "       6, 0, 5, 2, 6, 9, 5, 5, 6, 6, 4, 5, 7, 4, 2, 9, 5, 4, 2, 2, 5, 3,\n",
              "       8, 4, 3, 7, 0, 8, 4, 0, 5, 4, 1, 6, 0, 4, 3, 1, 8, 5, 5, 5, 5, 9,\n",
              "       2, 1, 7, 7, 8, 8, 0, 5, 3, 5, 7, 1, 1, 7, 6, 9, 8, 9, 0, 8, 5, 8,\n",
              "       5, 9, 7, 0, 7, 2, 7, 4, 5, 6, 2, 2, 6, 9, 1, 1, 6, 6, 2, 6, 4, 4,\n",
              "       1, 9, 7, 1, 3, 1, 6, 0, 9, 8, 0, 6, 8, 4, 7, 5, 1, 2, 8, 9, 4, 3,\n",
              "       3, 3, 8, 1, 0, 8, 4, 5, 4, 9, 7, 3, 5, 7, 1, 6, 3, 6, 7, 3, 5, 9,\n",
              "       6, 4, 9, 1, 5, 0, 0, 8, 2, 7, 3, 8, 1, 0, 7, 4, 0, 2, 5, 0, 7, 5,\n",
              "       4, 0, 7, 1, 9, 7, 9, 4, 9, 5, 6, 8, 2, 1, 3, 6, 2, 1, 2, 1, 1, 5,\n",
              "       9, 6, 6, 8, 9, 8, 5, 2, 6, 5, 7, 8, 7, 2, 2, 7, 1, 0, 8, 0, 2, 5,\n",
              "       2, 2, 8, 6, 8, 7, 8, 4, 1, 5, 4, 4, 6, 5, 3, 0, 3, 7, 4, 8, 5, 8,\n",
              "       6, 9, 2, 6, 6, 2, 0, 0, 2, 1, 4, 0, 4, 6, 3, 9, 3, 7, 1, 6, 8, 1,\n",
              "       2, 6, 6, 1, 6, 4, 5, 5, 9, 8, 5, 7, 6, 3, 9, 7, 8, 0, 0, 6, 7, 0,\n",
              "       5, 7, 2, 3, 1, 0, 7, 2, 2, 8, 6, 9, 5, 8, 6, 4, 1, 3, 9, 4, 8, 3,\n",
              "       7, 7, 5, 6, 1, 1, 1, 4, 6, 1, 3, 0, 3, 5, 7, 0, 7, 1, 5, 1, 3, 2,\n",
              "       8, 4, 0, 1, 9, 2, 2, 0, 1, 5, 1, 6, 2, 8, 7, 1, 4, 1, 2, 7, 8, 2,\n",
              "       5, 9, 6, 8, 4, 0, 8, 9, 3, 3, 1, 7, 2, 5, 8, 4, 8, 2, 4, 0, 2, 1,\n",
              "       0, 9, 2, 6, 9, 5, 1, 7, 2, 0, 7, 7, 2, 5, 4, 2, 9, 5, 9, 4, 0, 2,\n",
              "       6, 0, 6, 9, 5, 0, 7, 6, 2, 6, 6, 4, 5, 6, 4, 8, 8, 0, 0, 3, 5, 5,\n",
              "       1, 3, 4, 6, 1, 1, 5, 0, 9, 6, 7, 3, 8, 9, 5, 3, 8, 4, 6, 2, 6, 1,\n",
              "       8, 2, 9, 1, 7, 5, 4, 4, 3, 2, 0, 2, 9, 8, 2, 9, 9, 2, 2, 5, 7, 9,\n",
              "       4, 3, 3, 0, 1, 5, 9, 9, 2, 0, 4, 5])"
            ]
          },
          "metadata": {},
          "execution_count": 36
        }
      ]
    },
    {
      "cell_type": "markdown",
      "source": [
        "## **Model Accuracy**"
      ],
      "metadata": {
        "id": "KqgeEoJO3x3t"
      }
    },
    {
      "cell_type": "code",
      "source": [
        "from sklearn.metrics import confusion_matrix, classification_report"
      ],
      "metadata": {
        "id": "5_fS4TOO36JB"
      },
      "execution_count": null,
      "outputs": []
    },
    {
      "cell_type": "code",
      "source": [
        "confusion_matrix(y_test, y_pred)"
      ],
      "metadata": {
        "colab": {
          "base_uri": "https://localhost:8080/"
        },
        "id": "9dLK-DSz36FU",
        "outputId": "65a8e87f-6164-4404-dd01-24a13bd45b6e"
      },
      "execution_count": null,
      "outputs": [
        {
          "output_type": "execute_result",
          "data": {
            "text/plain": [
              "array([[52,  0,  0,  0,  1,  0,  0,  0,  0,  0],\n",
              "       [ 0, 55,  0,  0,  0,  0,  0,  0,  0,  0],\n",
              "       [ 1,  0, 59,  0,  0,  0,  0,  0,  0,  0],\n",
              "       [ 0,  0,  0, 45,  0,  0,  0,  0,  1,  0],\n",
              "       [ 0,  0,  0,  0, 48,  0,  0,  1,  0,  1],\n",
              "       [ 0,  0,  0,  0,  1, 61,  0,  0,  0,  2],\n",
              "       [ 0,  0,  0,  0,  0,  0, 57,  0,  0,  0],\n",
              "       [ 0,  0,  0,  0,  0,  0,  0, 47,  0,  0],\n",
              "       [ 0,  1,  1,  0,  0,  1,  0,  0, 52,  0],\n",
              "       [ 0,  0,  0,  0,  0,  0,  0,  4,  0, 49]])"
            ]
          },
          "metadata": {},
          "execution_count": 38
        }
      ]
    },
    {
      "cell_type": "code",
      "source": [
        "print(classification_report(y_test, y_pred))"
      ],
      "metadata": {
        "colab": {
          "base_uri": "https://localhost:8080/"
        },
        "id": "JhQcN-Ld6eOa",
        "outputId": "ba63c09c-4105-4dea-dea3-bb47d970f9ed"
      },
      "execution_count": null,
      "outputs": [
        {
          "output_type": "stream",
          "name": "stdout",
          "text": [
            "              precision    recall  f1-score   support\n",
            "\n",
            "           0       0.98      0.98      0.98        53\n",
            "           1       0.98      1.00      0.99        55\n",
            "           2       0.98      0.98      0.98        60\n",
            "           3       1.00      0.98      0.99        46\n",
            "           4       0.96      0.96      0.96        50\n",
            "           5       0.98      0.95      0.97        64\n",
            "           6       1.00      1.00      1.00        57\n",
            "           7       0.90      1.00      0.95        47\n",
            "           8       0.98      0.95      0.96        55\n",
            "           9       0.94      0.92      0.93        53\n",
            "\n",
            "    accuracy                           0.97       540\n",
            "   macro avg       0.97      0.97      0.97       540\n",
            "weighted avg       0.97      0.97      0.97       540\n",
            "\n"
          ]
        }
      ]
    },
    {
      "cell_type": "markdown",
      "source": [
        "## **Explaination**"
      ],
      "metadata": {
        "id": "SBo38CJZjlEX"
      }
    },
    {
      "cell_type": "markdown",
      "source": [
        "Handwritten prediction in the context of classification analysis typically refers to the process of using machine learning or deep learning techniques to automatically recognize and categorize handwritten text or symbols into predefined classes or categories. This task is commonly encountered in applications such as optical character recognition (OCR), digit recognition, signature verification, and more.\n",
        "\n",
        "Here's an explanation of the key steps and components involved in performing handwritten prediction through classification analysis:\n",
        "\n",
        "1. **Data Collection**: The first step is to gather a dataset of handwritten samples that are representative of the problem you want to solve. For instance, if you're building a digit recognition system, you would collect a dataset containing handwritten digits (0-9). Each sample in the dataset should be labeled with the correct class/category (e.g., the digit represented by the handwriting).\n",
        "\n",
        "2. **Data Preprocessing**:\n",
        "   - **Data Cleaning**: Remove any noise or artifacts from the handwritten samples, such as background clutter or smudges.\n",
        "   - **Normalization**: Normalize the data to make it consistent in terms of size, orientation, and scale. This ensures that the model can focus on the handwriting patterns rather than variations in writing style.\n",
        "\n",
        "3. **Feature Extraction**: Extract relevant features from the handwritten samples that can help the model distinguish between different classes. Common techniques for feature extraction in handwriting analysis include pixel values, histograms of oriented gradients (HOG), or deep learning-based feature extraction using convolutional neural networks (CNNs).\n",
        "\n",
        "4. **Model Selection**: Choose an appropriate machine learning or deep learning model for classification. For handwritten recognition tasks, deep learning models like CNNs and recurrent neural networks (RNNs) have shown significant success. The choice of the model depends on the complexity of the problem and the available data.\n",
        "\n",
        "5. **Model Training**: Train the selected model on your labeled dataset. During training, the model learns to map the extracted features to the corresponding classes by adjusting its internal parameters. This typically involves minimizing a loss function that quantifies the difference between the predicted outputs and the true labels.\n",
        "\n",
        "6. **Hyperparameter Tuning**: Fine-tune the hyperparameters of the model to optimize its performance. This includes adjusting learning rates, batch sizes, and architectural choices (e.g., the number of layers and units in a neural network).\n",
        "\n",
        "7. **Validation and Testing**: Evaluate the model's performance using a separate validation dataset to ensure that it generalizes well to unseen data. This helps in detecting and mitigating issues like overfitting. Finally, test the model on a separate test dataset to assess its real-world performance.\n",
        "\n",
        "8. **Post-processing**: Depending on the application, you may need to apply post-processing techniques to the model's predictions. For instance, in text recognition, you might use language models to improve the accuracy of word recognition.\n",
        "\n",
        "9. **Deployment**: Once you're satisfied with the model's performance, deploy it in a production environment where it can make predictions on new handwritten samples.\n",
        "\n",
        "10. **Monitoring and Maintenance**: Continuously monitor the model's performance in the real world and retrain it periodically with new data to ensure that it remains accurate over time.\n",
        "\n",
        "In summary, handwritten prediction through classification analysis involves collecting, preprocessing, and labeling a dataset of handwritten samples, selecting an appropriate model, training and fine-tuning the model, and then deploying it to make predictions on new handwritten data. The success of this process depends on the quality of data, the choice of model, and the expertise in optimizing and maintaining the system."
      ],
      "metadata": {
        "id": "Ybi8FR9Kjv00"
      }
    }
  ]
}